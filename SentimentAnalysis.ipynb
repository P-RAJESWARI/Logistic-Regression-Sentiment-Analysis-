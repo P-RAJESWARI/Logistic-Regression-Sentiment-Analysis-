{
  "cells": [
    {
      "cell_type": "code",
      "execution_count": 1,
      "metadata": {
        "id": "xh4rRUSmzwUK"
      },
      "outputs": [],
      "source": [
        "x1=[3,3,5,1,2,6,3,1,5,1]\n",
        "x2=[2,3,1,3,1,4,1,5,1,1]\n",
        "y=[0,0,1,0,0,0,1,0,1,0]"
      ]
    },
    {
      "cell_type": "code",
      "execution_count": 2,
      "metadata": {
        "id": "bLb_etuI0XdD"
      },
      "outputs": [],
      "source": [
        "w1=2.4\n",
        "w2=-4.9\n",
        "lr=0.1"
      ]
    },
    {
      "cell_type": "code",
      "execution_count": 3,
      "metadata": {
        "id": "0FlwinnW1czs"
      },
      "outputs": [],
      "source": [
        "import math\n",
        "z=[]\n",
        "pos=[]\n",
        "neg=[]\n",
        "cost=[]\n",
        "w11=[]\n",
        "w12=[]\n",
        "for i in range(len(x1)):\n",
        "  z.append(0)\n",
        "  pos.append(0)\n",
        "  neg.append(0)\n",
        "  cost.append(0)\n",
        "  w11.append(0)\n",
        "  w12.append(0)\n"
      ]
    },
    {
      "cell_type": "code",
      "execution_count": 4,
      "metadata": {
        "id": "AcpAu-ag0XgT"
      },
      "outputs": [],
      "source": [
        "def logistic(fr,lt):\n",
        " sum=0\n",
        " costavg=0\n",
        "\n",
        " for i in range(fr,lt):\n",
        "   z1=x1[i]*w1+x2[i]*w2\n",
        "   z.append(z1)\n",
        "   po=1/(1+math.exp(-z1))\n",
        "   pos[i]=po\n",
        "   neg[i]=1-pos[i]\n",
        "   cos=(y[i]*math.log(pos[i],10)+(1-y[i])*math.log(neg[i],10))*-1\n",
        "   cost[i]=cos\n",
        "   sum+=cost[i]\n",
        " costavg=sum/(lt-fr)\n",
        " return costavg\n",
        "\n",
        "\n",
        "\n"
      ]
    },
    {
      "cell_type": "code",
      "execution_count": 5,
      "metadata": {
        "id": "SKw2X8xy0XjJ"
      },
      "outputs": [],
      "source": [
        "def updateweight(fr,lt,w1,w2):\n",
        "  sum1=0\n",
        "  sum2=0\n",
        "  for i in range(fr,lt):\n",
        "    w11[i]=x1[i]*(pos[i]-y[i])\n",
        "    w12[i]=x2[i]*(pos[i]-y[i])\n",
        "    sum1+=w11[i]\n",
        "    sum2+=w12[i]\n",
        "  avgw1=sum1/(lt-fr)\n",
        "  avgw2=sum2/(lt-fr)\n",
        "  w1=w1-lr*avgw1\n",
        "  w2=w2-lr*avgw2\n",
        "  return w1,w2\n"
      ]
    },
    {
      "cell_type": "code",
      "execution_count": 6,
      "metadata": {
        "colab": {
          "base_uri": "https://localhost:8080/"
        },
        "id": "1Znr8gjT61Oo",
        "outputId": "67866992-7340-4110-e0d2-3d5b0797a4dd"
      },
      "outputs": [
        {
          "output_type": "stream",
          "name": "stdout",
          "text": [
            "Enter Training Percentage: 80\n",
            "[3, 3, 5, 1, 2, 6, 3, 1, 5, 1] [2, 3, 1, 3, 1, 4, 1, 5, 1, 1]  Positive Sentiment\n",
            "[3, 3, 5, 1, 2, 6, 3, 1, 5, 1] [2, 3, 1, 3, 1, 4, 1, 5, 1, 1]  Negative Sentiment\n"
          ]
        }
      ],
      "source": [
        "trainper=int(input(\"Enter Training Percentage: \"))\n",
        "train=(trainper*len(x1))//100\n",
        "pastavg=0\n",
        "for i in range(100):\n",
        "\n",
        " costavg=logistic(0,train)\n",
        " if(costavg-pastavg>0):\n",
        "  if(costavg-pastavg<0.001):\n",
        "    break\n",
        " else:\n",
        "  if(costavg-pastavg>-0.001):\n",
        "    break\n",
        " pastavg=costavg\n",
        " w1,w2=updateweight(0,train,w1,w2)\n",
        "logistic(train,len(x1))\n",
        "for i in range(train,len(x1)):\n",
        "  if(pos[i]>neg[i] and pos[i]>0.6):\n",
        "    print(x1,x2,\" Positive Sentiment\")\n",
        "  elif(neg[i]>pos[i] and pos[i]<0.3):\n",
        "    print(x1,x2,\" Negative Sentiment\")\n",
        "  else:\n",
        "    print(\"Can't classify\")\n",
        "\n",
        ""
      ]
    },
    {
      "cell_type": "code",
      "execution_count": 7,
      "metadata": {
        "id": "MWDsrcTM61dU",
        "colab": {
          "base_uri": "https://localhost:8080/"
        },
        "outputId": "4a5f858f-f0d8-4b1e-8054-68cf461c2c25"
      },
      "outputs": [
        {
          "output_type": "execute_result",
          "data": {
            "text/plain": [
              "[0.06611734456716498,\n",
              " 0.0005233525312005166,\n",
              " 0.9991211602382041,\n",
              " 4.408956487934634e-06,\n",
              " 0.46762641363853563,\n",
              " 0.0049874064694852265,\n",
              " 0.9054148209947873,\n",
              " 2.411764486591882e-10,\n",
              " 0.9991211602382041,\n",
              " 0.0745890686593646]"
            ]
          },
          "metadata": {},
          "execution_count": 7
        }
      ],
      "source": [
        "pos"
      ]
    },
    {
      "cell_type": "code",
      "source": [
        "neg"
      ],
      "metadata": {
        "colab": {
          "base_uri": "https://localhost:8080/"
        },
        "id": "KRCEKOSNej_T",
        "outputId": "c198e770-f6b2-4832-fe31-7482403cffc0"
      },
      "execution_count": 8,
      "outputs": [
        {
          "output_type": "execute_result",
          "data": {
            "text/plain": [
              "[0.933882655432835,\n",
              " 0.9994766474687995,\n",
              " 0.0008788397617959243,\n",
              " 0.9999955910435121,\n",
              " 0.5323735863614644,\n",
              " 0.9950125935305147,\n",
              " 0.09458517900521268,\n",
              " 0.9999999997588236,\n",
              " 0.0008788397617959243,\n",
              " 0.9254109313406353]"
            ]
          },
          "metadata": {},
          "execution_count": 8
        }
      ]
    }
  ],
  "metadata": {
    "colab": {
      "provenance": []
    },
    "kernelspec": {
      "display_name": "Python 3",
      "name": "python3"
    },
    "language_info": {
      "name": "python"
    }
  },
  "nbformat": 4,
  "nbformat_minor": 0
}